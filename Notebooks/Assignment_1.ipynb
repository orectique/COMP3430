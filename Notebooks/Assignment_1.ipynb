{
 "cells": [
  {
   "cell_type": "code",
   "execution_count": 1,
   "metadata": {},
   "outputs": [],
   "source": [
    "import numpy as np\n",
    "#"
   ]
  },
  {
   "cell_type": "code",
   "execution_count": 2,
   "metadata": {},
   "outputs": [],
   "source": [
    "from scipy.stats import median_abs_deviation, mode"
   ]
  },
  {
   "cell_type": "markdown",
   "metadata": {},
   "source": [
    "### Task 2"
   ]
  },
  {
   "cell_type": "code",
   "execution_count": 4,
   "metadata": {},
   "outputs": [
    {
     "name": "stdout",
     "output_type": "stream",
     "text": [
      "1 - Mean : 39.05, SD : 29.554145225331755\n",
      "2 - Median : 27.0, SD : 13.5\n",
      "3 - Mode: ModeResult(mode=17, count=2)\n"
     ]
    }
   ],
   "source": [
    "L = [25, 11, 40, 17, 17, 41, 21, 31, 46, 26, 86, 74, 100, 28, 15, 97, 73, 22, 7, 4]\n",
    "\n",
    "print(f\"1 - Mean : {np.mean(L)}, SD : {np.std(L)}\")\n",
    "\n",
    "print(f\"2 - Median : {np.median(L)}, SD : {median_abs_deviation(L)}\")\n",
    "\n",
    "print(f\"3 - Mode: {mode(L)}\")"
   ]
  },
  {
   "cell_type": "markdown",
   "metadata": {},
   "source": [
    "### Task 3"
   ]
  },
  {
   "cell_type": "code",
   "execution_count": 5,
   "metadata": {},
   "outputs": [],
   "source": [
    "import pandas as pd"
   ]
  },
  {
   "cell_type": "code",
   "execution_count": 6,
   "metadata": {},
   "outputs": [],
   "source": [
    "Lpd = pd.Series(L)"
   ]
  },
  {
   "cell_type": "code",
   "execution_count": 12,
   "metadata": {},
   "outputs": [],
   "source": [
    "import numpy as np\n",
    "from scipy.stats import binned_statistic\n",
    "\n",
    "L = [25, 11, 40, 17, 17, 41, 21, 31, 46, 26, 86, 74, 100, 28, 15, 97, 73, 22, 7, 4]"
   ]
  },
  {
   "cell_type": "code",
   "execution_count": 20,
   "metadata": {},
   "outputs": [
    {
     "name": "stdout",
     "output_type": "stream",
     "text": [
      "Equal depth with two bins and smoothed by bin median:  BinnedStatisticResult(statistic=array([22., 86.]), bin_edges=array([  4.,  52., 100.]), binnumber=array([1, 1, 1, 1, 1, 1, 1, 1, 1, 1, 2, 2, 2, 1, 1, 2, 2, 1, 1, 1],\n",
      "      dtype=int64))\n"
     ]
    }
   ],
   "source": [
    "# Binning with equal depth with two bins and smoothed by bin median\n",
    "bin_median_2 = binned_statistic(L, L, statistic=\"median\", bins=2)\n",
    "print(\"Equal depth with two bins and smoothed by bin median: \", bin_median_2)"
   ]
  },
  {
   "cell_type": "code",
   "execution_count": 19,
   "metadata": {},
   "outputs": [
    {
     "name": "stdout",
     "output_type": "stream",
     "text": [
      "BinnedStatisticResult(statistic=array([18.66666667, 42.33333333, 86.        ]), bin_edges=array([  4.,  36.,  68., 100.]), binnumber=array([1, 1, 2, 1, 1, 2, 1, 1, 2, 1, 3, 3, 3, 1, 1, 3, 3, 1, 1, 1],\n",
      "      dtype=int64))\n"
     ]
    }
   ],
   "source": [
    "\n",
    "# Binning with equal width with three bins and smoothed by bin mean\n",
    "bin_mean_3 = binned_statistic(L, L, statistic='mean', bins=3)\n",
    "print(bin_mean_3)"
   ]
  },
  {
   "cell_type": "markdown",
   "metadata": {},
   "source": [
    "bin1 = [18.67 18.67 18.67 18.67 18.67 18.67 18.67 18.67 18.67 18.67 18.67 18.67]\n",
    "bin2 = [42.33 42.33 42.33]\n",
    "bin3 = [86 86 86 86 86]"
   ]
  },
  {
   "cell_type": "code",
   "execution_count": null,
   "metadata": {},
   "outputs": [],
   "source": [
    "# Binning with equal width with four bins and smoothed by bin boundaries\n",
    "bin_boundaries_4 = binned_statistic(L, L, statistic='mean', bins=4)\n",
    "print(\"Equal width with four bins and smoothed by bin boundaries: \", bin_boundaries_4.statistic)\n",
    "\n",
    "# Binning with equal depth with four bins and smoothed by bin boundaries\n",
    "bin_boundaries_depth_4 = binned_statistic(L, L, statistic='mean', bins=[0, 3.5, 7])\n",
    "print(\"Equal depth with four bins and smoothed by bin boundaries: \", bin_boundaries_depth_4.statistic)\n"
   ]
  },
  {
   "cell_type": "code",
   "execution_count": null,
   "metadata": {},
   "outputs": [],
   "source": []
  },
  {
   "cell_type": "code",
   "execution_count": null,
   "metadata": {},
   "outputs": [],
   "source": []
  }
 ],
 "metadata": {
  "kernelspec": {
   "display_name": "Python 3",
   "language": "python",
   "name": "python3"
  },
  "language_info": {
   "codemirror_mode": {
    "name": "ipython",
    "version": 3
   },
   "file_extension": ".py",
   "mimetype": "text/x-python",
   "name": "python",
   "nbconvert_exporter": "python",
   "pygments_lexer": "ipython3",
   "version": "3.10.12"
  },
  "orig_nbformat": 4
 },
 "nbformat": 4,
 "nbformat_minor": 2
}
